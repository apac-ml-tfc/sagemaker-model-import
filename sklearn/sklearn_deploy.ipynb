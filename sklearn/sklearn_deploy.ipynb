{
 "cells": [
  {
   "cell_type": "markdown",
   "metadata": {},
   "source": [
    "# Amazon SageMaker SKLearn Bring Your Own Model\n",
    "_**Hosting a Pre-Trained scikit-learn Model in Amazon SageMaker SKlearn Framework Container**_\n",
    "\n",
    "---\n",
    "\n",
    "---\n",
    "\n",
    "## Contents\n",
    "\n",
    "1. [Background](#Background)\n",
    "1. [Setup](#Setup)\n",
    "1. [Optionally, train a scikit learn XGBoost model](#Optionally,-train-a-scikit-learn-XGBoost-model)\n",
    "1. [Upload the pre-trained model to S3](#Upload-the-pre-trained-model-to-S3)\n",
    "1. [Set up hosting for the model](#Set-up-hosting-for-the-model)\n",
    "1. [Validate the model for use](#Validate-the-model-for-use)\n",
    "\n",
    "\n",
    "\n",
    "\n",
    "---\n",
    "## Background\n",
    "\n",
    "Amazon SageMaker includes functionality to support a hosted notebook environment, distributed, serverless training, and real-time hosting. We think it works best when all three of these services are used together, but they can also be used independently.  Some use cases may only require hosting.  Maybe the model was trained prior to Amazon SageMaker existing, in a different service.\n",
    "\n",
    "This notebook shows how to use a pre-existing scikit-learn trained random forest model with the Amazon SageMaker Sklearn  container to quickly create a hosted endpoint for that model. \n",
    "\n",
    "---\n",
    "## Setup\n",
    "\n",
    "Let's start by specifying:\n",
    "\n",
    "* AWS region.\n",
    "* The IAM role arn used to give learning and hosting access to your data. See the documentation for how to specify these.\n",
    "* The S3 bucket that you want to use for training and model data."
   ]
  },
  {
   "cell_type": "code",
   "execution_count": 5,
   "metadata": {},
   "outputs": [
    {
     "name": "stdout",
     "output_type": "stream",
     "text": [
      "Using bucket sagemaker-us-east-2-349934754982\n"
     ]
    }
   ],
   "source": [
    "import datetime\n",
    "import time\n",
    "import tarfile\n",
    "\n",
    "import boto3\n",
    "import pandas as pd\n",
    "import numpy as np\n",
    "from sagemaker import get_execution_role\n",
    "import sagemaker\n",
    "from sklearn.model_selection import train_test_split\n",
    "from sklearn.datasets import load_boston\n",
    "\n",
    "\n",
    "sm_boto3 = boto3.client('sagemaker')\n",
    "\n",
    "sess = sagemaker.Session()\n",
    "\n",
    "region = sess.boto_session.region_name\n",
    "\n",
    "bucket = sess.default_bucket()  # this could also be a hard-coded bucket name\n",
    "\n",
    "print('Using bucket ' + bucket)"
   ]
  },
  {
   "cell_type": "code",
   "execution_count": 7,
   "metadata": {
    "isConfigCell": true
   },
   "outputs": [],
   "source": [
    "prefix = 'sagemaker/DEMO-sklearn-byo'\n",
    "bucket_path = 'https://s3-{}.amazonaws.com/{}'.format(region, bucket)\n",
    "# customize to your bucket where you have stored the data"
   ]
  },
  {
   "cell_type": "markdown",
   "metadata": {},
   "source": [
    "## Optionally, train a scikit learn model\n",
    "\n",
    "These steps are optional and are needed to generate the scikit-learn model that will eventually be hosted using the SageMaker Algorithm contained. \n"
   ]
  },
  {
   "cell_type": "markdown",
   "metadata": {},
   "source": [
    "### Fetch the dataset"
   ]
  },
  {
   "cell_type": "code",
   "execution_count": 6,
   "metadata": {},
   "outputs": [],
   "source": [
    "# we use the Boston housing dataset \n",
    "data = load_boston()"
   ]
  },
  {
   "cell_type": "markdown",
   "metadata": {},
   "source": [
    "### Prepare the dataset for training"
   ]
  },
  {
   "cell_type": "code",
   "execution_count": 8,
   "metadata": {},
   "outputs": [],
   "source": [
    "X_train, X_test, y_train, y_test = train_test_split(\n",
    "    data.data, data.target, test_size=0.25, random_state=42)\n",
    "\n",
    "trainX = pd.DataFrame(X_train, columns=data.feature_names)\n",
    "trainX['target'] = y_train\n",
    "\n",
    "testX = pd.DataFrame(X_test, columns=data.feature_names)\n",
    "testX['target'] = y_test"
   ]
  },
  {
   "cell_type": "code",
   "execution_count": 9,
   "metadata": {},
   "outputs": [
    {
     "data": {
      "text/html": [
       "<div>\n",
       "<style scoped>\n",
       "    .dataframe tbody tr th:only-of-type {\n",
       "        vertical-align: middle;\n",
       "    }\n",
       "\n",
       "    .dataframe tbody tr th {\n",
       "        vertical-align: top;\n",
       "    }\n",
       "\n",
       "    .dataframe thead th {\n",
       "        text-align: right;\n",
       "    }\n",
       "</style>\n",
       "<table border=\"1\" class=\"dataframe\">\n",
       "  <thead>\n",
       "    <tr style=\"text-align: right;\">\n",
       "      <th></th>\n",
       "      <th>CRIM</th>\n",
       "      <th>ZN</th>\n",
       "      <th>INDUS</th>\n",
       "      <th>CHAS</th>\n",
       "      <th>NOX</th>\n",
       "      <th>RM</th>\n",
       "      <th>AGE</th>\n",
       "      <th>DIS</th>\n",
       "      <th>RAD</th>\n",
       "      <th>TAX</th>\n",
       "      <th>PTRATIO</th>\n",
       "      <th>B</th>\n",
       "      <th>LSTAT</th>\n",
       "      <th>target</th>\n",
       "    </tr>\n",
       "  </thead>\n",
       "  <tbody>\n",
       "    <tr>\n",
       "      <th>0</th>\n",
       "      <td>0.09103</td>\n",
       "      <td>0.0</td>\n",
       "      <td>2.46</td>\n",
       "      <td>0.0</td>\n",
       "      <td>0.4880</td>\n",
       "      <td>7.155</td>\n",
       "      <td>92.2</td>\n",
       "      <td>2.7006</td>\n",
       "      <td>3.0</td>\n",
       "      <td>193.0</td>\n",
       "      <td>17.8</td>\n",
       "      <td>394.12</td>\n",
       "      <td>4.82</td>\n",
       "      <td>37.9</td>\n",
       "    </tr>\n",
       "    <tr>\n",
       "      <th>1</th>\n",
       "      <td>3.53501</td>\n",
       "      <td>0.0</td>\n",
       "      <td>19.58</td>\n",
       "      <td>1.0</td>\n",
       "      <td>0.8710</td>\n",
       "      <td>6.152</td>\n",
       "      <td>82.6</td>\n",
       "      <td>1.7455</td>\n",
       "      <td>5.0</td>\n",
       "      <td>403.0</td>\n",
       "      <td>14.7</td>\n",
       "      <td>88.01</td>\n",
       "      <td>15.02</td>\n",
       "      <td>15.6</td>\n",
       "    </tr>\n",
       "    <tr>\n",
       "      <th>2</th>\n",
       "      <td>0.03578</td>\n",
       "      <td>20.0</td>\n",
       "      <td>3.33</td>\n",
       "      <td>0.0</td>\n",
       "      <td>0.4429</td>\n",
       "      <td>7.820</td>\n",
       "      <td>64.5</td>\n",
       "      <td>4.6947</td>\n",
       "      <td>5.0</td>\n",
       "      <td>216.0</td>\n",
       "      <td>14.9</td>\n",
       "      <td>387.31</td>\n",
       "      <td>3.76</td>\n",
       "      <td>45.4</td>\n",
       "    </tr>\n",
       "    <tr>\n",
       "      <th>3</th>\n",
       "      <td>0.38735</td>\n",
       "      <td>0.0</td>\n",
       "      <td>25.65</td>\n",
       "      <td>0.0</td>\n",
       "      <td>0.5810</td>\n",
       "      <td>5.613</td>\n",
       "      <td>95.6</td>\n",
       "      <td>1.7572</td>\n",
       "      <td>2.0</td>\n",
       "      <td>188.0</td>\n",
       "      <td>19.1</td>\n",
       "      <td>359.29</td>\n",
       "      <td>27.26</td>\n",
       "      <td>15.7</td>\n",
       "    </tr>\n",
       "    <tr>\n",
       "      <th>4</th>\n",
       "      <td>0.06724</td>\n",
       "      <td>0.0</td>\n",
       "      <td>3.24</td>\n",
       "      <td>0.0</td>\n",
       "      <td>0.4600</td>\n",
       "      <td>6.333</td>\n",
       "      <td>17.2</td>\n",
       "      <td>5.2146</td>\n",
       "      <td>4.0</td>\n",
       "      <td>430.0</td>\n",
       "      <td>16.9</td>\n",
       "      <td>375.21</td>\n",
       "      <td>7.34</td>\n",
       "      <td>22.6</td>\n",
       "    </tr>\n",
       "  </tbody>\n",
       "</table>\n",
       "</div>"
      ],
      "text/plain": [
       "      CRIM    ZN  INDUS  CHAS     NOX     RM   AGE     DIS  RAD    TAX  \\\n",
       "0  0.09103   0.0   2.46   0.0  0.4880  7.155  92.2  2.7006  3.0  193.0   \n",
       "1  3.53501   0.0  19.58   1.0  0.8710  6.152  82.6  1.7455  5.0  403.0   \n",
       "2  0.03578  20.0   3.33   0.0  0.4429  7.820  64.5  4.6947  5.0  216.0   \n",
       "3  0.38735   0.0  25.65   0.0  0.5810  5.613  95.6  1.7572  2.0  188.0   \n",
       "4  0.06724   0.0   3.24   0.0  0.4600  6.333  17.2  5.2146  4.0  430.0   \n",
       "\n",
       "   PTRATIO       B  LSTAT  target  \n",
       "0     17.8  394.12   4.82    37.9  \n",
       "1     14.7   88.01  15.02    15.6  \n",
       "2     14.9  387.31   3.76    45.4  \n",
       "3     19.1  359.29  27.26    15.7  \n",
       "4     16.9  375.21   7.34    22.6  "
      ]
     },
     "execution_count": 9,
     "metadata": {},
     "output_type": "execute_result"
    }
   ],
   "source": [
    "trainX.head()"
   ]
  },
  {
   "cell_type": "code",
   "execution_count": 11,
   "metadata": {},
   "outputs": [],
   "source": [
    "trainX.to_csv('boston_train.csv')\n",
    "testX.to_csv('boston_test.csv')"
   ]
  },
  {
   "cell_type": "markdown",
   "metadata": {},
   "source": [
    "## Train model locally"
   ]
  },
  {
   "cell_type": "code",
   "execution_count": 17,
   "metadata": {},
   "outputs": [],
   "source": [
    "import numpy as np\n",
    "import pandas as pd\n",
    "import joblib\n",
    "from sklearn.ensemble import RandomForestRegressor\n",
    "\n"
   ]
  },
  {
   "cell_type": "code",
   "execution_count": 47,
   "metadata": {},
   "outputs": [
    {
     "name": "stdout",
     "output_type": "stream",
     "text": [
      "training model\n",
      "validating model\n",
      "AE-at-10th-percentile: 0.26401676767676036\n",
      "AE-at-50th-percentile: 1.4646803890553883\n",
      "AE-at-90th-percentile: 4.457468982683986\n"
     ]
    }
   ],
   "source": [
    "print('training model')\n",
    "model = RandomForestRegressor(\n",
    "        n_estimators=100,\n",
    "        min_samples_leaf=3,\n",
    "        n_jobs=-1)\n",
    "    \n",
    "model.fit(X_train, y_train)\n",
    "\n",
    "# print abs error\n",
    "print('validating model')\n",
    "abs_err = np.abs(model.predict(X_test) - y_test)\n",
    "\n",
    "# print couple perf metrics\n",
    "for q in [10, 50, 90]:\n",
    "    print('AE-at-' + str(q) + 'th-percentile: ' + str(np.percentile(a=abs_err, q=q)))\n",
    "        \n"
   ]
  },
  {
   "cell_type": "markdown",
   "metadata": {},
   "source": [
    "#### Inference with model locally:"
   ]
  },
  {
   "cell_type": "code",
   "execution_count": 48,
   "metadata": {},
   "outputs": [
    {
     "data": {
      "text/plain": [
       "array([22.67531263, 31.19679286, 16.78301385, 23.71872063, 17.09308467,\n",
       "       21.22811468, 19.35947229, 15.65108456, 21.28613521, 21.02667024,\n",
       "       20.20080188, 19.65817183,  8.14240158, 21.85755437, 19.61198914,\n",
       "       25.23829978, 18.63268528,  8.55239291, 44.05811241, 15.46478795,\n",
       "       24.03537789, 23.95748492, 14.96718709, 24.08047583, 15.0982486 ,\n",
       "       15.44812861, 21.58461865, 14.03972922, 19.57238341, 20.82120141,\n",
       "       20.40723113, 23.61431263, 27.76213391, 19.76042327, 14.71201851,\n",
       "       15.73880273, 35.22242518, 19.15683061, 21.01626815, 23.99830545,\n",
       "       19.59633009, 29.5170631 , 44.32100646, 19.16979174, 22.68796548,\n",
       "       13.92651144, 15.53531248, 24.21073997, 18.5530246 , 29.32268568,\n",
       "       21.16161508, 33.70204473, 17.1367746 , 26.23295563, 46.07912134,\n",
       "       21.99914722, 15.49032186, 32.34362183, 21.91744621, 20.23810765,\n",
       "       25.06446111, 34.28859697, 30.72181825, 18.73531961, 27.99031324,\n",
       "       16.9599978 , 13.59836346, 23.14834545, 29.52979639, 14.96916573,\n",
       "       20.71370887, 27.09753463, 10.22827341, 22.75520058, 22.02731861,\n",
       "        7.24180729, 20.06499791, 45.07263965, 11.52066724, 13.98276786,\n",
       "       21.42543207, 11.76426705, 20.06559177,  9.62314202, 20.86854979,\n",
       "       27.57358611, 15.5764074 , 23.67072514, 23.50569275, 17.78263831,\n",
       "       21.87823211,  7.92002111, 19.23732987, 19.18634102, 24.36936746,\n",
       "       19.13894398, 28.5883974 , 11.81821045, 11.93694206, 12.25486035,\n",
       "       20.20492673, 23.92842608, 13.91999885, 19.64052464, 21.35645754,\n",
       "       12.65411468, 18.84139567, 24.79530159, 20.13029299, 23.23256367,\n",
       "        8.94012219, 14.81308831, 22.79307698, 23.09799946, 31.43959286,\n",
       "       13.8978331 , 40.98467222, 15.91637348, 19.36327031, 23.95761111,\n",
       "       19.03529286, 24.01939106,  8.47237936, 20.70427016, 24.38534048,\n",
       "       21.82988561, 23.76656667])"
      ]
     },
     "execution_count": 48,
     "metadata": {},
     "output_type": "execute_result"
    }
   ],
   "source": [
    "model.predict(testX[data.feature_names])"
   ]
  },
  {
   "cell_type": "markdown",
   "metadata": {},
   "source": [
    "### Persist model"
   ]
  },
  {
   "cell_type": "code",
   "execution_count": 49,
   "metadata": {},
   "outputs": [
    {
     "name": "stdout",
     "output_type": "stream",
     "text": [
      "model persisted at ./model.joblib\n"
     ]
    }
   ],
   "source": [
    "# persist model\n",
    "model_dir='.'\n",
    "model_path = os.path.join(model_dir, \"model.joblib\")\n",
    "joblib.dump(model, path)\n",
    "print('model persisted at ' + path)"
   ]
  },
  {
   "cell_type": "markdown",
   "metadata": {},
   "source": [
    "### Tar trained model file\n",
    "Note that the model file name must satisfy the regular expression pattern: `^[a-zA-Z0-9](-*[a-zA-Z0-9])*;`. The model file also need to tar-zipped. "
   ]
  },
  {
   "cell_type": "code",
   "execution_count": 50,
   "metadata": {},
   "outputs": [
    {
     "name": "stdout",
     "output_type": "stream",
     "text": [
      "./model.joblib\n"
     ]
    }
   ],
   "source": [
    "!tar czvf model.tar.gz $model_path"
   ]
  },
  {
   "cell_type": "markdown",
   "metadata": {},
   "source": [
    "## Upload the pre-trained model to S3"
   ]
  },
  {
   "cell_type": "code",
   "execution_count": 51,
   "metadata": {},
   "outputs": [],
   "source": [
    "model_file_name='sklearn_byo'\n",
    "fObj = open(\"model.tar.gz\", 'rb')\n",
    "key= os.path.join(prefix, model_file_name, 'model.tar.gz')\n",
    "boto3.Session().resource('s3').Bucket(bucket).Object(key).upload_fileobj(fObj)"
   ]
  },
  {
   "cell_type": "code",
   "execution_count": 52,
   "metadata": {},
   "outputs": [
    {
     "name": "stdout",
     "output_type": "stream",
     "text": [
      "https://s3-us-east-2.amazonaws.com/sagemaker-us-east-2-349934754982/sagemaker/DEMO-sklearn-byo/sklearn_byo/model.tar.gz\n"
     ]
    }
   ],
   "source": [
    "model_url = 'https://s3-{}.amazonaws.com/{}/{}'.format(region,bucket,key)\n",
    "print(model_url)"
   ]
  },
  {
   "cell_type": "code",
   "execution_count": 53,
   "metadata": {},
   "outputs": [
    {
     "name": "stdout",
     "output_type": "stream",
     "text": [
      "\n",
      "Error parsing parameter 'paths': Unable to retrieve https://s3-us-east-2.amazonaws.com/sagemaker-us-east-2-349934754982/sagemaker/DEMO-sklearn-byo/sklearn_byo/: received non 200 status code of 403\n"
     ]
    }
   ],
   "source": [
    "!aws s3 ls 's3://s3-us-east-2.amazonaws.com/sagemaker-us-east-2-349934754982/sagemaker/DEMO-sklearn-byo/sklearn_byo/'"
   ]
  },
  {
   "cell_type": "markdown",
   "metadata": {},
   "source": [
    "## Set up hosting for the model with Python SDK\n",
    "\n",
    "### Import model into hosting\n",
    "This involves creating a SageMaker model from the model file previously uploaded to S3. See more information in the documentation (in particular about the entry_point file): https://sagemaker.readthedocs.io/en/stable/frameworks/sklearn/sagemaker.sklearn.html#scikit-learn-model\n"
   ]
  },
  {
   "cell_type": "code",
   "execution_count": 54,
   "metadata": {},
   "outputs": [],
   "source": [
    "FRAMEWORK_VERSION='0.23-1'"
   ]
  },
  {
   "cell_type": "code",
   "execution_count": 78,
   "metadata": {},
   "outputs": [],
   "source": [
    "from sagemaker.sklearn.model import SKLearnModel\n",
    "model_name='demo-sklearn-randomforest'+ strftime(\"%Y-%m-%d-%H-%M-%S\", gmtime())\n",
    "model = SKLearnModel(\n",
    "    model_data=model_url,\n",
    "    role=get_execution_role(),\n",
    "    entry_point='script.py',\n",
    "    framework_version=FRAMEWORK_VERSION,\n",
    "    name=model_name)\n",
    "\n"
   ]
  },
  {
   "cell_type": "code",
   "execution_count": 79,
   "metadata": {},
   "outputs": [
    {
     "name": "stdout",
     "output_type": "stream",
     "text": [
      "demo-sklearn-randomforest2021-01-20-07-09-09\n"
     ]
    }
   ],
   "source": [
    "print(model_name)"
   ]
  },
  {
   "cell_type": "markdown",
   "metadata": {},
   "source": [
    "This effectively deploys the managed endpoint (may take several minutes)."
   ]
  },
  {
   "cell_type": "code",
   "execution_count": 58,
   "metadata": {},
   "outputs": [
    {
     "name": "stdout",
     "output_type": "stream",
     "text": [
      "-------------!"
     ]
    }
   ],
   "source": [
    "predictor = model.deploy(\n",
    "    instance_type='ml.c5.large',\n",
    "    initial_instance_count=1)"
   ]
  },
  {
   "cell_type": "markdown",
   "metadata": {},
   "source": [
    "## Invoke with the Python SDK"
   ]
  },
  {
   "cell_type": "code",
   "execution_count": 59,
   "metadata": {},
   "outputs": [
    {
     "name": "stdout",
     "output_type": "stream",
     "text": [
      "[22.67531263 31.19679286 16.78301385 23.71872063 17.09308467 21.22811468\n",
      " 19.35947229 15.65108456 21.28613521 21.02667024 20.20080188 19.65817183\n",
      "  8.14240158 21.85755437 19.61198914 25.23829978 18.63268528  8.55239291\n",
      " 44.05811241 15.46478795 24.03537789 23.95748492 14.96718709 24.08047583\n",
      " 15.0982486  15.44812861 21.58461865 14.03972922 19.57238341 20.82120141\n",
      " 20.40723113 23.61431263 27.76213391 19.76042327 14.71201851 15.73880273\n",
      " 35.22242518 19.15683061 21.01626815 23.99830545 19.59633009 29.5170631\n",
      " 44.32100646 19.16979174 22.68796548 13.92651144 15.53531248 24.21073997\n",
      " 18.5530246  29.32268568 21.16161508 33.70204473 17.1367746  26.23295563\n",
      " 46.07912134 21.99914722 15.49032186 32.34362183 21.91744621 20.23810765\n",
      " 25.06446111 34.28859697 30.72181825 18.73531961 27.99031324 16.9599978\n",
      " 13.59836346 23.14834545 29.52979639 14.96916573 20.71370887 27.09753463\n",
      " 10.22827341 22.75520058 22.02731861  7.24180729 20.06499791 45.07263965\n",
      " 11.52066724 13.98276786 21.42543207 11.76426705 20.06559177  9.62314202\n",
      " 20.86854979 27.57358611 15.5764074  23.67072514 23.50569275 17.78263831\n",
      " 21.87823211  7.92002111 19.23732987 19.18634102 24.36936746 19.13894398\n",
      " 28.5883974  11.81821045 11.93694206 12.25486035 20.20492673 23.92842608\n",
      " 13.91999885 19.64052464 21.35645754 12.65411468 18.84139567 24.79530159\n",
      " 20.13029299 23.23256367  8.94012219 14.81308831 22.79307698 23.09799946\n",
      " 31.43959286 13.8978331  40.98467222 15.91637348 19.36327031 23.95761111\n",
      " 19.03529286 24.01939106  8.47237936 20.70427016 24.38534048 21.82988561\n",
      " 23.76656667]\n"
     ]
    }
   ],
   "source": [
    "# the SKLearnPredictor does the serialization from pandas for us\n",
    "print(predictor.predict(testX[data.feature_names]))"
   ]
  },
  {
   "cell_type": "markdown",
   "metadata": {},
   "source": [
    "### Delete endpoint or you will be charged for as long as it's running!"
   ]
  },
  {
   "cell_type": "code",
   "execution_count": null,
   "metadata": {},
   "outputs": [],
   "source": [
    "predictor.delete_endpoint()"
   ]
  }
 ],
 "metadata": {
  "anaconda-cloud": {},
  "instance_type": "ml.t3.medium",
  "kernelspec": {
   "display_name": "Python 3 (Data Science)",
   "language": "python",
   "name": "python3__SAGEMAKER_INTERNAL__arn:aws:sagemaker:us-east-2:429704687514:image/datascience-1.0"
  },
  "language_info": {
   "codemirror_mode": {
    "name": "ipython",
    "version": 3
   },
   "file_extension": ".py",
   "mimetype": "text/x-python",
   "name": "python",
   "nbconvert_exporter": "python",
   "pygments_lexer": "ipython3",
   "version": "3.7.6"
  },
  "notice": "Copyright 2017 Amazon.com, Inc. or its affiliates. All Rights Reserved.  Licensed under the Apache License, Version 2.0 (the \"License\"). You may not use this file except in compliance with the License. A copy of the License is located at http://aws.amazon.com/apache2.0/ or in the \"license\" file accompanying this file. This file is distributed on an \"AS IS\" BASIS, WITHOUT WARRANTIES OR CONDITIONS OF ANY KIND, either express or implied. See the License for the specific language governing permissions and limitations under the License."
 },
 "nbformat": 4,
 "nbformat_minor": 4
}
